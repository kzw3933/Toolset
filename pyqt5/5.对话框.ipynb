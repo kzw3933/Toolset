{
 "cells": [
  {
   "cell_type": "markdown",
   "metadata": {},
   "source": [
    "### 1. 输入文字"
   ]
  },
  {
   "cell_type": "code",
   "execution_count": 1,
   "metadata": {},
   "outputs": [
    {
     "data": {
      "text/plain": [
       "0"
      ]
     },
     "execution_count": 1,
     "metadata": {},
     "output_type": "execute_result"
    }
   ],
   "source": [
    "import sys\n",
    "from PyQt5.QtWidgets import QWidget, QPushButton, QLineEdit, QInputDialog, QApplication\n",
    "\n",
    "class WindowWithInputDialog(QWidget):\n",
    "    def __init__(self):\n",
    "        super(WindowWithInputDialog, self).__init__()\n",
    "        self.initUI()\n",
    "    def initUI(self):\n",
    "        self.btn = QPushButton('Dialog', self)\n",
    "        self.btn.move(20, 20)\n",
    "        self.btn.clicked.connect(self.showDialog)\n",
    "        \n",
    "        self.le = QLineEdit(self)\n",
    "        self.le.move(130, 22)\n",
    "\n",
    "        self.setGeometry(300, 300, 290, 150)\n",
    "        self.setWindowTitle('Window with input dialog')\n",
    "        self.show()\n",
    "    def showDialog(self):\n",
    "        text, ok = QInputDialog.getText(self, 'Input Dialog', 'Enter your name:')\n",
    "        if ok:\n",
    "            self.le.setText(str(text))\n",
    "app = QApplication(sys.argv)\n",
    "window = WindowWithInputDialog()\n",
    "app.exec_()\n",
    "    "
   ]
  },
  {
   "cell_type": "markdown",
   "metadata": {},
   "source": [
    "### 选择颜色"
   ]
  },
  {
   "cell_type": "code",
   "execution_count": 1,
   "metadata": {},
   "outputs": [],
   "source": [
    "import sys\n",
    "from PyQt5.QtWidgets import QWidget, QPushButton, QFrame, QColorDialog, QApplication\n",
    "from PyQt5.QtGui import QColor\n",
    "\n",
    "class WindowWithColorDialog(QWidget):\n",
    "    def __init__(self):\n",
    "        super(WindowWithColorDialog, self).__init__()\n",
    "        self.initUI()\n",
    "    def initUI(self):\n",
    "        color = QColor(0, 0, 0)\n",
    "        self.btn = QPushButton('Dialog', self)\n",
    "        self.btn.move(20, 20)\n",
    "        self.btn.clicked.connect(self.showDialog)\n",
    "\n",
    "        self.frm = QFrame(self)\n",
    "        self.frm.setStyleSheet('QWidget { background-color: %s }'%(color.name()))\n",
    "        self.frm.setGeometry(130, 22, 100, 100)\n",
    "\n",
    "        self.setGeometry(300, 300, 250, 180)\n",
    "        self.setWindowTitle('Window with color dialog')\n",
    "        self.show()\n",
    "    def showDialog(self):\n",
    "        color = QColorDialog.getColor()\n",
    "        if color.isValid():\n",
    "            self.frm.setStyleSheet('QWidget { background-color: %s }'%(color.name()))\n",
    "\n",
    "app = QApplication(sys.argv)\n",
    "window = WindowWithColorDialog()\n",
    "app.exec_()"
   ]
  },
  {
   "cell_type": "markdown",
   "metadata": {},
   "source": [
    "### 选择文字"
   ]
  },
  {
   "cell_type": "code",
   "execution_count": 1,
   "metadata": {},
   "outputs": [
    {
     "data": {
      "text/plain": [
       "0"
      ]
     },
     "execution_count": 1,
     "metadata": {},
     "output_type": "execute_result"
    }
   ],
   "source": [
    "import sys\n",
    "from PyQt5.QtWidgets import QWidget, QVBoxLayout, QPushButton, QSizePolicy, QLabel, QFontDialog, QApplication\n",
    "\n",
    "class WindowWithFontDialog(QWidget):\n",
    "    def __init__(self):\n",
    "        super(WindowWithFontDialog, self).__init__()\n",
    "        self.initUI()\n",
    "    def initUI(self):\n",
    "        vbox = QVBoxLayout()\n",
    "\n",
    "        btn = QPushButton('Dialog', self)\n",
    "        btn.setSizePolicy(QSizePolicy.Fixed, QSizePolicy.Fixed)\n",
    "        btn.move(20, 20)\n",
    "        btn.clicked.connect(self.showDialog)\n",
    "\n",
    "        self.label = QLabel('Knowledge only matters', self)\n",
    "        self.label.move(130, 20)\n",
    "\n",
    "        vbox.addWidget(self.label)\n",
    "        vbox.addWidget(btn)\n",
    "        self.setLayout(vbox)\n",
    "\n",
    "        self.setGeometry(300, 300, 500, 180)\n",
    "        self.setWindowTitle('Window with font dialog')\n",
    "        self.show()\n",
    "\n",
    "    def showDialog(self):\n",
    "        font, ok = QFontDialog.getFont()\n",
    "        if ok:\n",
    "            self.label.setFont(font)\n",
    "app = QApplication(sys.argv)\n",
    "window = WindowWithFontDialog()\n",
    "app.exec_()\n",
    "\n",
    "        "
   ]
  },
  {
   "cell_type": "markdown",
   "metadata": {},
   "source": [
    "### 选择文件"
   ]
  },
  {
   "cell_type": "code",
   "execution_count": 1,
   "metadata": {},
   "outputs": [
    {
     "data": {
      "text/plain": [
       "0"
      ]
     },
     "execution_count": 1,
     "metadata": {},
     "output_type": "execute_result"
    }
   ],
   "source": [
    "import sys\n",
    "from PyQt5.QtWidgets import QMainWindow, QTextEdit, QAction, QFileDialog, QApplication\n",
    "from PyQt5.QtGui import QIcon\n",
    "\n",
    "class WindowWithFileDialog(QMainWindow):\n",
    "    def __init__(self):\n",
    "        super(WindowWithFileDialog, self).__init__()\n",
    "        self.initUI()\n",
    "    def initUI(self):\n",
    "        self.textEdit = QTextEdit()\n",
    "        self.setCentralWidget(self.textEdit)\n",
    "        self.statusBar()\n",
    "\n",
    "        openFile = QAction(QIcon('/home/jack/Desktop/projs/Toolset/pyqt5/imgs/Icarus.png'), 'open', self)\n",
    "        openFile.setShortcut('Ctrl+O')\n",
    "        openFile.setStatusTip('Open new File')\n",
    "        openFile.triggered.connect(self.showDialog)\n",
    "\n",
    "        menuBar = self.menuBar()\n",
    "        menuBar.setNativeMenuBar(False)\n",
    "        fileMenu = menuBar.addMenu('&File')\n",
    "        fileMenu.addAction(openFile)\n",
    "\n",
    "        self.setGeometry(300, 300, 350, 300)\n",
    "        self.setWindowTitle('Window with file dialog')\n",
    "        self.show()\n",
    "\n",
    "    def showDialog(self):\n",
    "        fname = QFileDialog.getOpenFileName(self, 'Open file', '/home/jack')\n",
    "        if fname[0]:\n",
    "            f = open(fname[0], 'r')\n",
    "            with f:\n",
    "                data = f.read()\n",
    "                self.textEdit.setText(data)\n",
    "app = QApplication(sys.argv)\n",
    "window = WindowWithFileDialog()\n",
    "app.exec_()"
   ]
  }
 ],
 "metadata": {
  "kernelspec": {
   "display_name": "Python 3",
   "language": "python",
   "name": "python3"
  },
  "language_info": {
   "codemirror_mode": {
    "name": "ipython",
    "version": 3
   },
   "file_extension": ".py",
   "mimetype": "text/x-python",
   "name": "python",
   "nbconvert_exporter": "python",
   "pygments_lexer": "ipython3",
   "version": "3.11.5"
  }
 },
 "nbformat": 4,
 "nbformat_minor": 2
}
