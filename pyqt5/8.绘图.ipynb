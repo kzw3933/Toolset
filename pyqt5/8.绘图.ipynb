{
 "cells": [
  {
   "cell_type": "markdown",
   "metadata": {},
   "source": [
    "### 1. 文本涂鸦"
   ]
  },
  {
   "cell_type": "code",
   "execution_count": 1,
   "metadata": {},
   "outputs": [
    {
     "data": {
      "text/plain": [
       "0"
      ]
     },
     "execution_count": 1,
     "metadata": {},
     "output_type": "execute_result"
    }
   ],
   "source": [
    "import sys\n",
    "from PyQt5.QtWidgets import QWidget, QApplication\n",
    "from PyQt5.QtGui import QPainter, QColor, QFont\n",
    "from PyQt5.QtCore import Qt\n",
    "\n",
    "class WindowWithTextDoodling(QWidget):\n",
    "    def __init__(self):\n",
    "        super(WindowWithTextDoodling, self).__init__()\n",
    "        self.initUI()\n",
    "    def initUI(self):\n",
    "        self.text = 'Лев Николаевич Толстой\\nАнна Каренина'\n",
    "        self.setGeometry(300, 300, 280, 170)\n",
    "        self.setWindowTitle('Window with text doodling')\n",
    "        self.show()\n",
    "\n",
    "    def paintEvent(self, event):\n",
    "        qp = QPainter()\n",
    "        qp.begin(self)\n",
    "        self.drawText(event, qp)\n",
    "        qp.end()\n",
    "    def drawText(self, event, qp):\n",
    "        qp.setPen(QColor(168, 34, 3))\n",
    "        qp.setFont(QFont('Decorative', 10))\n",
    "        qp.drawText(event.rect(), Qt.AlignCenter, self.text) \n",
    "\n",
    "app = QApplication(sys.argv)\n",
    "window = WindowWithTextDoodling()\n",
    "app.exec_() "
   ]
  },
  {
   "cell_type": "markdown",
   "metadata": {},
   "source": [
    "### 2. 点的绘画"
   ]
  },
  {
   "cell_type": "code",
   "execution_count": 1,
   "metadata": {},
   "outputs": [
    {
     "data": {
      "text/plain": [
       "0"
      ]
     },
     "execution_count": 1,
     "metadata": {},
     "output_type": "execute_result"
    }
   ],
   "source": [
    "import sys, random\n",
    "from PyQt5.QtWidgets import QWidget, QApplication\n",
    "from PyQt5.QtGui import QPainter\n",
    "from PyQt5.QtCore import Qt\n",
    "\n",
    "class WindowWithPoints(QWidget):\n",
    "    def __init__(self):\n",
    "        super(WindowWithPoints,self).__init__()\n",
    "        self.initUI()\n",
    "    def initUI(self):\n",
    "        self.setGeometry(300, 300, 300, 190)\n",
    "        self.setWindowTitle('Window with points')\n",
    "        self.show()\n",
    "    def paintEvent(self, event):\n",
    "        qp = QPainter()\n",
    "        qp.begin(self)\n",
    "        self.drawPoints(qp)\n",
    "        qp.end()\n",
    "    def drawPoints(self, qp):\n",
    "        qp.setPen(Qt.red)\n",
    "        size = self.size()\n",
    "        for i in range(1000):\n",
    "            x = random.randint(0, size.width()-1)\n",
    "            y = random.randint(0, size.height()-1)\n",
    "            qp.drawPoint(x, y)\n",
    "\n",
    "app = QApplication(sys.argv)\n",
    "window = WindowWithPoints()\n",
    "app.exec_()"
   ]
  },
  {
   "cell_type": "markdown",
   "metadata": {},
   "source": [
    "### 3. QPen"
   ]
  },
  {
   "cell_type": "code",
   "execution_count": 1,
   "metadata": {},
   "outputs": [
    {
     "data": {
      "text/plain": [
       "0"
      ]
     },
     "execution_count": 1,
     "metadata": {},
     "output_type": "execute_result"
    }
   ],
   "source": [
    "import sys\n",
    "from PyQt5.QtWidgets import QWidget, QApplication\n",
    "from PyQt5.QtGui import QPainter, QPen\n",
    "from PyQt5.QtCore import Qt\n",
    "\n",
    "class WindowWithPen(QWidget):\n",
    "    def __init__(self):\n",
    "        super(WindowWithPen, self).__init__()\n",
    "        self.initUI()\n",
    "    def initUI(self):\n",
    "        self.setGeometry(300, 300, 280, 270)\n",
    "        self.setWindowTitle('Window with pen')\n",
    "        self.show()\n",
    "    def paintEvent(self, e):\n",
    "        qp = QPainter()\n",
    "        qp.begin(self)\n",
    "        self.drawLines(qp)\n",
    "        qp.end()\n",
    "    def drawLines(self, qp):\n",
    "        pen = QPen(Qt.black, 2, Qt.SolidLine)\n",
    "\n",
    "        qp.setPen(pen)\n",
    "        qp.drawLine(20, 40, 250, 40)\n",
    "\n",
    "        pen.setStyle(Qt.DashLine)\n",
    "        qp.setPen(pen)\n",
    "        qp.drawLine(20,80, 250, 80)\n",
    "\n",
    "        pen.setStyle(Qt.DashDotLine)\n",
    "        qp.setPen(pen)\n",
    "        qp.drawLine(20, 120, 250, 120)\n",
    "\n",
    "        pen.setStyle(Qt.DotLine)\n",
    "        qp.setPen(pen)\n",
    "        qp.drawLine(20, 160, 250, 160)\n",
    "\n",
    "        pen.setStyle(Qt.DashDotDotLine)\n",
    "        qp.setPen(pen)\n",
    "        qp.drawLine(20, 200, 250, 200)\n",
    "\n",
    "        pen.setStyle(Qt.CustomDashLine)\n",
    "        pen.setDashPattern([1, 4, 5, 4])\n",
    "        qp.setPen(pen)\n",
    "        qp.drawLine(20, 240, 250, 240)\n",
    "\n",
    "app = QApplication(sys.argv)\n",
    "window = WindowWithPen()\n",
    "app.exec_()"
   ]
  },
  {
   "cell_type": "markdown",
   "metadata": {},
   "source": [
    "### 4. QBrush"
   ]
  },
  {
   "cell_type": "code",
   "execution_count": 1,
   "metadata": {},
   "outputs": [
    {
     "data": {
      "text/plain": [
       "0"
      ]
     },
     "execution_count": 1,
     "metadata": {},
     "output_type": "execute_result"
    }
   ],
   "source": [
    "import sys\n",
    "from PyQt5.QtWidgets import QWidget, QApplication\n",
    "from PyQt5.QtGui import QPainter, QBrush\n",
    "from PyQt5.QtCore import Qt\n",
    "\n",
    "class WindowWithBrush(QWidget):\n",
    "    def __init__(self):\n",
    "        super().__init__()\n",
    "        self.initUI()\n",
    "        \n",
    "    def initUI(self):      \n",
    "        self.setGeometry(300, 300, 355, 280)\n",
    "        self.setWindowTitle('Window with brush')\n",
    "        self.show()\n",
    "\n",
    "    def paintEvent(self, e):\n",
    "\n",
    "        qp = QPainter()\n",
    "        qp.begin(self)\n",
    "        self.drawBrushes(qp)\n",
    "        qp.end()\n",
    "\n",
    "\n",
    "    def drawBrushes(self, qp):\n",
    "\n",
    "        brush = QBrush(Qt.SolidPattern)\n",
    "\n",
    "        qp.setBrush(brush)\n",
    "        qp.drawRect(10, 15, 90, 60)\n",
    "\n",
    "        brush.setStyle(Qt.Dense1Pattern)\n",
    "        qp.setBrush(brush)\n",
    "        qp.drawRect(130, 15, 90, 60)\n",
    "\n",
    "        brush.setStyle(Qt.Dense2Pattern)\n",
    "        qp.setBrush(brush)\n",
    "        qp.drawRect(250, 15, 90, 60)\n",
    "\n",
    "        brush.setStyle(Qt.DiagCrossPattern)\n",
    "        qp.setBrush(brush)\n",
    "        qp.drawRect(10, 105, 90, 60)\n",
    "\n",
    "        brush.setStyle(Qt.Dense5Pattern)\n",
    "        qp.setBrush(brush)\n",
    "        qp.drawRect(130, 105, 90, 60)\n",
    "\n",
    "        brush.setStyle(Qt.Dense6Pattern)\n",
    "        qp.setBrush(brush)\n",
    "        qp.drawRect(250, 105, 90, 60)\n",
    "\n",
    "        brush.setStyle(Qt.HorPattern)\n",
    "        qp.setBrush(brush)\n",
    "        qp.drawRect(10, 195, 90, 60)\n",
    "\n",
    "        brush.setStyle(Qt.VerPattern)\n",
    "        qp.setBrush(brush)\n",
    "        qp.drawRect(130, 195, 90, 60)\n",
    "\n",
    "        brush.setStyle(Qt.BDiagPattern)\n",
    "        qp.setBrush(brush)\n",
    "        qp.drawRect(250, 195, 90, 60)\n",
    "\n",
    "app = QApplication(sys.argv)\n",
    "window = WindowWithBrush()\n",
    "app.exec_()"
   ]
  },
  {
   "cell_type": "markdown",
   "metadata": {},
   "source": [
    "### 5. 贝塞尔曲线"
   ]
  },
  {
   "cell_type": "code",
   "execution_count": 1,
   "metadata": {},
   "outputs": [
    {
     "data": {
      "text/plain": [
       "0"
      ]
     },
     "execution_count": 1,
     "metadata": {},
     "output_type": "execute_result"
    }
   ],
   "source": [
    "import sys\n",
    "from PyQt5.QtWidgets import QWidget, QApplication\n",
    "from PyQt5.QtGui import QPainter, QPainterPath\n",
    "from PyQt5.QtCore import Qt\n",
    "\n",
    "class WindowWithBezierCurve(QWidget):\n",
    "    def __init__(self):\n",
    "        super(WindowWithBezierCurve, self).__init__()\n",
    "        self.initUI()\n",
    "    def initUI(self):\n",
    "        self.setGeometry(300, 300, 380, 250)\n",
    "        self.setWindowTitle('Window with bezier curve')\n",
    "        self.show()\n",
    "    def paintEvent(self, e):\n",
    "        qp = QPainter()\n",
    "        qp.begin(self)\n",
    "        qp.setRenderHint(QPainter.Antialiasing)\n",
    "        self.drawBezier(qp)\n",
    "        qp.end()\n",
    "    def drawBezier(self, qp):\n",
    "        path = QPainterPath()\n",
    "        path.moveTo(30, 30)\n",
    "        path.cubicTo(30, 30, 200, 350, 350, 30)\n",
    "        qp.drawPath(path)\n",
    "\n",
    "app = QApplication(sys.argv)\n",
    "window = WindowWithBezierCurve()\n",
    "app.exec_()"
   ]
  }
 ],
 "metadata": {
  "kernelspec": {
   "display_name": "Python 3",
   "language": "python",
   "name": "python3"
  },
  "language_info": {
   "codemirror_mode": {
    "name": "ipython",
    "version": 3
   },
   "file_extension": ".py",
   "mimetype": "text/x-python",
   "name": "python",
   "nbconvert_exporter": "python",
   "pygments_lexer": "ipython3",
   "version": "3.11.5"
  }
 },
 "nbformat": 4,
 "nbformat_minor": 2
}
