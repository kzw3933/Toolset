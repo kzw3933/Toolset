{
 "cells": [
  {
   "cell_type": "markdown",
   "metadata": {},
   "source": [
    "### 1. 简单的窗口"
   ]
  },
  {
   "cell_type": "code",
   "execution_count": null,
   "metadata": {},
   "outputs": [],
   "source": [
    "import sys\n",
    "from PyQt5.QtWidgets import QApplication, QWidget\n",
    "\n",
    "app = QApplication(sys.argv)\n",
    "w = QWidget()\n",
    "w.resize(250, 150)          ## (width, height)\n",
    "w.move(300, 300)            ## (x, y)\n",
    "w.setWindowTitle('Simple')\n",
    "w.show()\n",
    "\n",
    "app.exec_()"
   ]
  },
  {
   "cell_type": "markdown",
   "metadata": {},
   "source": [
    "### 2. 带图标的窗口"
   ]
  },
  {
   "cell_type": "code",
   "execution_count": null,
   "metadata": {},
   "outputs": [],
   "source": [
    "import sys\n",
    "from PyQt5.QtWidgets import QApplication, QWidget\n",
    "from PyQt5.QtGui import QIcon\n",
    "\n",
    "class WindowWithIcon(QWidget):\n",
    "    def __init__(self):\n",
    "        super(WindowWithIcon, self).__init__()\n",
    "        self.initUI()\n",
    "    def initUI(self):\n",
    "        self.setGeometry(300, 300, 300, 220)  ## (x, y, width, height)\n",
    "        self.setWindowTitle('Window with icon')\n",
    "        self.setWindowIcon(QIcon('/home/jack/Desktop/projs/Toolset/pyqt5/imgs/Icarus.png'))\n",
    "        self.show()\n",
    "\n",
    "app = QApplication(sys.argv)\n",
    "window = WindowWithIcon()\n",
    "app.exec_()"
   ]
  },
  {
   "cell_type": "markdown",
   "metadata": {
    "vscode": {
     "languageId": "javascript"
    }
   },
   "source": [
    "### 3. 提示框"
   ]
  },
  {
   "cell_type": "code",
   "execution_count": null,
   "metadata": {},
   "outputs": [],
   "source": [
    "import sys\n",
    "from PyQt5.QtWidgets import QWidget, QToolTip, QPushButton, QApplication\n",
    "from PyQt5.QtGui import QFont\n",
    "\n",
    "class WindowWithToolTip(QWidget):\n",
    "    def __init__(self):\n",
    "        super(WindowWithToolTip, self).__init__()\n",
    "        self.initUI()\n",
    "    def initUI(self):\n",
    "        QToolTip.setFont(QFont('AnonymicePro Nerd Font', 10))\n",
    "        self.setToolTip('This is a <b>QWidget</b> widget')\n",
    "\n",
    "        btn = QPushButton('button', self)\n",
    "        btn.setToolTip('This is a <b>QPushButton</b> widget')\n",
    "        btn.resize(btn.sizeHint())\n",
    "        btn.move(50, 50)\n",
    "        \n",
    "        self.setGeometry(300, 300, 300, 200)\n",
    "        self.setWindowTitle('Window with tooltip')\n",
    "        self.show()\n",
    "\n",
    "app = QApplication(sys.argv)\n",
    "window = WindowWithToolTip()\n",
    "app.exec_()"
   ]
  },
  {
   "cell_type": "markdown",
   "metadata": {},
   "source": [
    "### 4. 关闭窗口"
   ]
  },
  {
   "cell_type": "code",
   "execution_count": null,
   "metadata": {},
   "outputs": [],
   "source": [
    "import sys\n",
    "from PyQt5.QtWidgets import QWidget, QPushButton, QApplication, qApp\n",
    "\n",
    "class WindownWithQuitButton(QWidget):\n",
    "    def __init__(self):\n",
    "        super(WindownWithQuitButton, self).__init__()\n",
    "        self.initUI()\n",
    "    def initUI(self):\n",
    "        quit_btn = QPushButton('Quit', self)\n",
    "        quit_btn.clicked.connect(qApp.quit)\n",
    "        quit_btn.move(50, 50)\n",
    "\n",
    "        self.setGeometry(300, 300, 250, 150)\n",
    "        self.setWindowTitle('Window with quit button')\n",
    "        self.show()\n",
    "\n",
    "app = QApplication(sys.argv)\n",
    "window = WindownWithQuitButton()\n",
    "app.exec_()"
   ]
  },
  {
   "cell_type": "markdown",
   "metadata": {},
   "source": [
    "### 5. 消息盒子"
   ]
  },
  {
   "cell_type": "code",
   "execution_count": null,
   "metadata": {},
   "outputs": [],
   "source": [
    "import sys\n",
    "from PyQt5.QtWidgets import QWidget, QMessageBox, QApplication\n",
    "\n",
    "class WindowWithMessageBox(QWidget):\n",
    "    def __init__(self):\n",
    "        super(WindowWithMessageBox, self).__init__()\n",
    "        self.initUI()\n",
    "    def initUI(self):\n",
    "        self.setGeometry(300, 300, 250, 150)\n",
    "        self.setWindowTitle('Window with messagebox')\n",
    "        self.show()\n",
    "    def closeEvent(self, event):\n",
    "        reply = QMessageBox.question(self, 'Message', 'Are you sure to quit?', \n",
    "                                     QMessageBox.Yes|QMessageBox.No, QMessageBox.No)\n",
    "        if reply == QMessageBox.Yes:\n",
    "            event.accept()\n",
    "        else:\n",
    "            event.ignore()\n",
    "\n",
    "app = QApplication(sys.argv)\n",
    "window = WindowWithMessageBox()\n",
    "app.exec_()"
   ]
  },
  {
   "cell_type": "markdown",
   "metadata": {},
   "source": [
    "### 6. 窗口居中"
   ]
  },
  {
   "cell_type": "code",
   "execution_count": null,
   "metadata": {},
   "outputs": [],
   "source": [
    "import sys\n",
    "from PyQt5.QtWidgets import QWidget, QDesktopWidget, QApplication\n",
    "\n",
    "class WindowInCenter(QWidget):\n",
    "    def __init__(self):\n",
    "        super(WindowInCenter, self).__init__()\n",
    "        self.initUI()\n",
    "    def initUI(self):\n",
    "        self.resize(250, 150)\n",
    "        self.center()\n",
    "        self.setWindowTitle('Window in center')\n",
    "        self.show()\n",
    "    def center(self):\n",
    "        qr = self.frameGeometry()     ## 获得主窗口所在框架\n",
    "        cp = QDesktopWidget().availableGeometry().center()  ## 获取显示器分辨率,然后得到屏幕中间点位置\n",
    "        qr.moveCenter(cp)             ## 把主窗口框架的中心放置到屏幕中心位置\n",
    "        self.move(qr.topLeft())         ## 把主窗口的左上角移动到框架的左上角\n",
    "\n",
    "app = QApplication(sys.argv)\n",
    "window = WindowInCenter()\n",
    "app.exec_()"
   ]
  }
 ],
 "metadata": {
  "kernelspec": {
   "display_name": "base",
   "language": "python",
   "name": "python3"
  },
  "language_info": {
   "codemirror_mode": {
    "name": "ipython",
    "version": 3
   },
   "file_extension": ".py",
   "mimetype": "text/x-python",
   "name": "python",
   "nbconvert_exporter": "python",
   "pygments_lexer": "ipython3",
   "version": "3.11.5"
  }
 },
 "nbformat": 4,
 "nbformat_minor": 2
}
