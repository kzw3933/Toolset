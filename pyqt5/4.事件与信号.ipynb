{
 "cells": [
  {
   "cell_type": "markdown",
   "metadata": {},
   "source": [
    "### 1. 事件"
   ]
  },
  {
   "cell_type": "markdown",
   "metadata": {},
   "source": [
    "### 2. Signals & Slots"
   ]
  },
  {
   "cell_type": "code",
   "execution_count": 1,
   "metadata": {},
   "outputs": [
    {
     "data": {
      "text/plain": [
       "0"
      ]
     },
     "execution_count": 1,
     "metadata": {},
     "output_type": "execute_result"
    }
   ],
   "source": [
    "import sys\n",
    "from PyQt5.QtWidgets import QWidget, QLCDNumber, QSlider, QVBoxLayout, QApplication\n",
    "from PyQt5.QtCore import Qt\n",
    "\n",
    "class WindowWithSignalSlots(QWidget):\n",
    "    def __init__(self):\n",
    "        super(WindowWithSignalSlots, self).__init__()\n",
    "        self.initUI()\n",
    "    def initUI(self):\n",
    "        lcd = QLCDNumber()\n",
    "        sld = QSlider(Qt.Horizontal, self)\n",
    "\n",
    "        vbox = QVBoxLayout()\n",
    "        vbox.addWidget(lcd)\n",
    "        vbox.addWidget(sld)\n",
    "\n",
    "        self.setLayout(vbox)\n",
    "        sld.valueChanged.connect(lcd.display)\n",
    "\n",
    "        self.setGeometry(300, 300, 250, 150)\n",
    "        self.setWindowTitle('Window with signalslots')\n",
    "        self.show()\n",
    "app = QApplication(sys.argv)\n",
    "window = WindowWithSignalSlots()\n",
    "app.exec_()"
   ]
  },
  {
   "cell_type": "markdown",
   "metadata": {},
   "source": [
    "### 3. 重构事件处理器"
   ]
  },
  {
   "cell_type": "code",
   "execution_count": 2,
   "metadata": {},
   "outputs": [],
   "source": [
    "import sys\n",
    "from PyQt5.QtWidgets import QWidget, QApplication\n",
    "from PyQt5.QtCore import Qt\n",
    "\n",
    "class WindowWithRefactorEventHandler(QWidget):\n",
    "    def __init__(self):\n",
    "        super(WindowWithRefactorEventHandler, self).__init__()\n",
    "        self.initUI()\n",
    "    def initUI(self):\n",
    "        self.setGeometry(300, 300, 250, 150)\n",
    "        self.setWindowTitle('Window with refactor event handler')\n",
    "        self.show()\n",
    "    def keyPressEvent(self, e):\n",
    "        if e.key() == Qt.Key_Escape:\n",
    "            self.close()\n",
    "\n",
    "app = QApplication(sys.argv)\n",
    "window = WindowWithRefactorEventHandler()\n",
    "app.exec_()    "
   ]
  },
  {
   "cell_type": "markdown",
   "metadata": {},
   "source": [
    "### 4. 事件对象"
   ]
  },
  {
   "cell_type": "code",
   "execution_count": 1,
   "metadata": {},
   "outputs": [
    {
     "data": {
      "text/plain": [
       "0"
      ]
     },
     "execution_count": 1,
     "metadata": {},
     "output_type": "execute_result"
    }
   ],
   "source": [
    "import sys\n",
    "from PyQt5.QtWidgets import QWidget, QApplication, QGridLayout, QLabel\n",
    "from PyQt5.QtCore import Qt\n",
    "\n",
    "class WindowWithEvent(QWidget):\n",
    "    def __init__(self):\n",
    "        super(WindowWithEvent, self).__init__()\n",
    "        self.initUI()\n",
    "    def initUI(self):\n",
    "        grid = QGridLayout()\n",
    "        grid.setSpacing(10)\n",
    "        x, y = 0, 0\n",
    "        self.text = f'x: {x}, y: {y}'\n",
    "        self.label = QLabel(self.text, self)\n",
    "        grid.addWidget(self.label, 0, 0, Qt.AlignTop)\n",
    "        self.setMouseTracking(True)\n",
    "        self.setLayout(grid)\n",
    "\n",
    "        self.setGeometry(300, 300, 350, 200)\n",
    "        self.setWindowTitle('Window with event')\n",
    "        self.show()\n",
    "    def mouseMoveEvent(self, e):\n",
    "        x = e.x()\n",
    "        y = e.y()\n",
    "        text = f'x: {x}, y: {y}'\n",
    "        self.label.setText(text)\n",
    "    \n",
    "app = QApplication(sys.argv)\n",
    "window = WindowWithEvent()\n",
    "app.exec_()\n",
    "    "
   ]
  },
  {
   "cell_type": "markdown",
   "metadata": {},
   "source": [
    "### 5. 事件发送"
   ]
  },
  {
   "cell_type": "code",
   "execution_count": 1,
   "metadata": {},
   "outputs": [
    {
     "data": {
      "text/plain": [
       "0"
      ]
     },
     "execution_count": 1,
     "metadata": {},
     "output_type": "execute_result"
    }
   ],
   "source": [
    "import sys\n",
    "from PyQt5.QtWidgets import QMainWindow, QPushButton, QApplication\n",
    "\n",
    "class WindowWithEventSender(QMainWindow):\n",
    "    def __init__(self):\n",
    "        super(WindowWithEventSender, self).__init__()\n",
    "        self.initUI()\n",
    "    def initUI(self):\n",
    "        btn1 = QPushButton('button 1', self)\n",
    "        btn1.move(30, 50)\n",
    "        btn2 = QPushButton('button 2', self)\n",
    "        btn2.move(150, 50)\n",
    "\n",
    "        btn1.clicked.connect(self.buttonClicked)\n",
    "        btn2.clicked.connect(self.buttonClicked)\n",
    "\n",
    "        self.statusBar()\n",
    "\n",
    "        self.setGeometry(300, 300, 290, 150)\n",
    "        self.setWindowTitle('Window with event sender')\n",
    "        self.show()\n",
    "\n",
    "    def buttonClicked(self):\n",
    "        sender = self.sender()\n",
    "        self.statusBar().showMessage(sender.text() + ' was pressed')\n",
    "\n",
    "app = QApplication(sys.argv)\n",
    "window = WindowWithEventSender()\n",
    "app.exec_()\n"
   ]
  },
  {
   "cell_type": "markdown",
   "metadata": {},
   "source": [
    "### 6. 信号发送"
   ]
  },
  {
   "cell_type": "code",
   "execution_count": 1,
   "metadata": {},
   "outputs": [
    {
     "data": {
      "text/plain": [
       "0"
      ]
     },
     "execution_count": 1,
     "metadata": {},
     "output_type": "execute_result"
    }
   ],
   "source": [
    "import sys\n",
    "from PyQt5.QtWidgets import QMainWindow, QApplication\n",
    "from PyQt5.QtCore import pyqtSignal, QObject\n",
    "\n",
    "class Communication(QObject):\n",
    "    closeApp = pyqtSignal()\n",
    "\n",
    "class WindowWithSignalSender(QMainWindow):\n",
    "    def __init__(self):\n",
    "        super(WindowWithSignalSender, self).__init__()\n",
    "        self.initUI()\n",
    "    def initUI(self):\n",
    "        self.c = Communication()\n",
    "        self.c.closeApp.connect(self.close)\n",
    "        self.setGeometry(300, 300, 290, 150)\n",
    "        self.setWindowTitle('Window with signal sender')\n",
    "        self.show()\n",
    "    def mousePressEvent(self, event):\n",
    "        self.c.closeApp.emit()\n",
    "\n",
    "app = QApplication(sys.argv)\n",
    "window = WindowWithSignalSender()\n",
    "app.exec_()"
   ]
  }
 ],
 "metadata": {
  "kernelspec": {
   "display_name": "Python 3",
   "language": "python",
   "name": "python3"
  },
  "language_info": {
   "codemirror_mode": {
    "name": "ipython",
    "version": 3
   },
   "file_extension": ".py",
   "mimetype": "text/x-python",
   "name": "python",
   "nbconvert_exporter": "python",
   "pygments_lexer": "ipython3",
   "version": "3.11.5"
  }
 },
 "nbformat": 4,
 "nbformat_minor": 2
}
