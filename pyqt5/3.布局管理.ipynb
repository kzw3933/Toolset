{
 "cells": [
  {
   "cell_type": "markdown",
   "metadata": {},
   "source": [
    "### 1. 绝对定位"
   ]
  },
  {
   "cell_type": "code",
   "execution_count": 1,
   "metadata": {},
   "outputs": [
    {
     "data": {
      "text/plain": [
       "0"
      ]
     },
     "execution_count": 1,
     "metadata": {},
     "output_type": "execute_result"
    }
   ],
   "source": [
    "import sys\n",
    "from PyQt5.QtWidgets import QWidget, QLabel, QApplication\n",
    "\n",
    "class WindowWithAbsolutePosition(QWidget):\n",
    "    def __init__(self):\n",
    "        super(WindowWithAbsolutePosition, self).__init__()\n",
    "        self.initUI()\n",
    "    def initUI(self):\n",
    "        label1 = QLabel('Qt', self)\n",
    "        label1.move(15, 10)\n",
    "        label2 = QLabel('tutorials', self)\n",
    "        label2.move(35, 40)\n",
    "        label3 = QLabel('programmers', self)\n",
    "        label3.move(55, 70)\n",
    "\n",
    "        self.setGeometry(300, 300, 250, 150)\n",
    "        self.setWindowTitle('Window with absolute position')\n",
    "        self.show()\n",
    "app = QApplication(sys.argv)\n",
    "window = WindowWithAbsolutePosition()\n",
    "app.exec_()"
   ]
  },
  {
   "cell_type": "markdown",
   "metadata": {},
   "source": [
    "### 2. 盒布局"
   ]
  },
  {
   "cell_type": "code",
   "execution_count": 1,
   "metadata": {},
   "outputs": [
    {
     "data": {
      "text/plain": [
       "0"
      ]
     },
     "execution_count": 1,
     "metadata": {},
     "output_type": "execute_result"
    }
   ],
   "source": [
    "import sys\n",
    "from PyQt5.QtWidgets import QWidget, QPushButton, QHBoxLayout, QVBoxLayout, QApplication\n",
    "\n",
    "class WindowWithBoxLayout(QWidget):\n",
    "    def __init__(self):\n",
    "        super(WindowWithBoxLayout, self).__init__()\n",
    "        self.initUI()\n",
    "    def initUI(self):\n",
    "        ok_button = QPushButton('OK')\n",
    "        cancel_button = QPushButton('Cancel')\n",
    "        hbox = QHBoxLayout()\n",
    "        hbox.addStretch(1)\n",
    "        hbox.addWidget(ok_button)\n",
    "        hbox.addWidget(cancel_button)\n",
    "\n",
    "        vbox = QVBoxLayout()\n",
    "        vbox.addStretch(1)\n",
    "        vbox.addLayout(hbox)\n",
    "\n",
    "        self.setLayout(vbox)\n",
    "\n",
    "        self.setGeometry(300, 300, 300, 150)\n",
    "        self.setWindowTitle('Window with box layout')\n",
    "        self.show()    \n",
    "\n",
    "app = QApplication(sys.argv)\n",
    "window = WindowWithBoxLayout()\n",
    "app.exec_()"
   ]
  },
  {
   "cell_type": "markdown",
   "metadata": {},
   "source": [
    "### 栅格布局"
   ]
  },
  {
   "cell_type": "code",
   "execution_count": 1,
   "metadata": {},
   "outputs": [
    {
     "data": {
      "text/plain": [
       "0"
      ]
     },
     "execution_count": 1,
     "metadata": {},
     "output_type": "execute_result"
    }
   ],
   "source": [
    "import sys\n",
    "from PyQt5.QtWidgets import QWidget, QGridLayout, QPushButton, QApplication\n",
    "\n",
    "class WindowWithGridLayout(QWidget):\n",
    "    def __init__(self):\n",
    "        super(WindowWithGridLayout, self).__init__()\n",
    "        self.initUI()\n",
    "    def initUI(self):\n",
    "        grid = QGridLayout()\n",
    "        self.setLayout(grid)\n",
    "        names = [\n",
    "            'Cls', 'Bck', '', 'Close',\n",
    "            '7', '8', '9', '/',\n",
    "            '4', '5', '6', '*',\n",
    "            '1', '2', '3', '-',\n",
    "            '0', '.', '=', '+'\n",
    "        ]\n",
    "        positions = [(i, j) for i in range(5) for j in range(4)]\n",
    "        for pos, name in zip(positions, names):\n",
    "            if name == '':\n",
    "                continue\n",
    "            button = QPushButton(name)\n",
    "            grid.addWidget(button, *pos)\n",
    "\n",
    "        self.setGeometry(300, 300, 300, 150)\n",
    "        self.setWindowTitle('Window with grid layout')\n",
    "        self.show()\n",
    "\n",
    "app = QApplication(sys.argv)\n",
    "window = WindowWithGridLayout()\n",
    "app.exec_()\n",
    "\n",
    "\n"
   ]
  },
  {
   "cell_type": "markdown",
   "metadata": {},
   "source": [
    "### 制作提交反馈信息的布局"
   ]
  },
  {
   "cell_type": "code",
   "execution_count": 1,
   "metadata": {},
   "outputs": [
    {
     "data": {
      "text/plain": [
       "0"
      ]
     },
     "execution_count": 1,
     "metadata": {},
     "output_type": "execute_result"
    }
   ],
   "source": [
    "import sys\n",
    "from PyQt5.QtWidgets import QWidget, QLabel, QLineEdit, QTextEdit, QGridLayout, QApplication\n",
    "\n",
    "class WindowWithFeedbackInfo(QWidget):\n",
    "    def __init__(self):\n",
    "        super(WindowWithFeedbackInfo, self).__init__()\n",
    "        self.initUI()\n",
    "    def initUI(self):\n",
    "        title = QLabel('Title')\n",
    "        author = QLabel('Author')\n",
    "        review = QLabel('Review')\n",
    "\n",
    "        titleEdit = QLineEdit()\n",
    "        authorEdit = QLineEdit()\n",
    "        reviewEdit = QLineEdit()\n",
    "\n",
    "        grid = QGridLayout()\n",
    "        grid.setSpacing(10)\n",
    "        grid.addWidget(title, 1, 0)\n",
    "        grid.addWidget(titleEdit, 1, 1)\n",
    "        grid.addWidget(author, 2, 0)\n",
    "        grid.addWidget(authorEdit, 2, 1)\n",
    "        grid.addWidget(review, 3, 0)\n",
    "        grid.addWidget(reviewEdit, 3, 1, 5, 2)  ## 位于(3,1)，跨5行1列\n",
    "\n",
    "        self.setLayout(grid)\n",
    "        self.setGeometry(300, 300, 350, 300)\n",
    "        self.setWindowTitle('Window with feedback info')\n",
    "        self.show()\n",
    "app = QApplication(sys.argv)\n",
    "window = WindowWithFeedbackInfo()\n",
    "app.exec_()"
   ]
  }
 ],
 "metadata": {
  "kernelspec": {
   "display_name": "Python 3",
   "language": "python",
   "name": "python3"
  },
  "language_info": {
   "codemirror_mode": {
    "name": "ipython",
    "version": 3
   },
   "file_extension": ".py",
   "mimetype": "text/x-python",
   "name": "python",
   "nbconvert_exporter": "python",
   "pygments_lexer": "ipython3",
   "version": "3.11.5"
  }
 },
 "nbformat": 4,
 "nbformat_minor": 2
}
