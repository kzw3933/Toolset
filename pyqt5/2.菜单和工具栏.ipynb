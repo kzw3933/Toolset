{
 "cells": [
  {
   "cell_type": "markdown",
   "metadata": {},
   "source": [
    "### 1. 主窗口"
   ]
  },
  {
   "cell_type": "markdown",
   "metadata": {},
   "source": [
    "### 2. 状态栏"
   ]
  },
  {
   "cell_type": "code",
   "execution_count": null,
   "metadata": {},
   "outputs": [],
   "source": [
    "import sys\n",
    "from PyQt5.QtWidgets import QMainWindow, QApplication\n",
    "\n",
    "class WindowWithToolBar(QMainWindow):\n",
    "    def __init__(self):\n",
    "        super(WindowWithToolBar, self).__init__()\n",
    "        self.initUI()\n",
    "    def initUI(self):\n",
    "        self.statusBar().showMessage('Ready')\n",
    "        self.setGeometry(300, 300, 250, 150)\n",
    "        self.setWindowTitle('Status Bar')\n",
    "        self.show()\n",
    "\n",
    "app = QApplication(sys.argv)\n",
    "window = WindowWithToolBar()\n",
    "app.exec_()"
   ]
  },
  {
   "cell_type": "markdown",
   "metadata": {},
   "source": [
    "### 3. 菜单栏"
   ]
  },
  {
   "cell_type": "code",
   "execution_count": null,
   "metadata": {},
   "outputs": [],
   "source": [
    "import sys\n",
    "from PyQt5.QtWidgets import QMainWindow, QAction, qApp, QApplication\n",
    "from PyQt5.QtGui import QIcon\n",
    "\n",
    "class WindowWithMenu(QMainWindow):\n",
    "    def __init__(self):\n",
    "        super(WindowWithMenu, self).__init__()\n",
    "        self.initUI()\n",
    "    def initUI(self):\n",
    "        exit_action = QAction(QIcon('/home/jack/Desktop/projs/Toolset/pyqt5/imgs/Icarus.png'), '&Exit', self)\n",
    "        exit_action.setShortcut('Ctrl+Q')\n",
    "        exit_action.setStatusTip('Exit')\n",
    "        exit_action.triggered.connect(qApp.quit)\n",
    "        self.statusBar()\n",
    "        \n",
    "        menubar = self.menuBar()\n",
    "        menubar.setNativeMenuBar(False)             ## 防止archlinux kde桌面环境下默认的菜单栏掩盖了效果\n",
    "        fileMenu = menubar.addMenu('&File')\n",
    "        fileMenu.addAction(exit_action)\n",
    "\n",
    "        self.setGeometry(300, 300, 300, 200)\n",
    "        self.setWindowTitle('Window with menu')\n",
    "        self.show()\n",
    "\n",
    "app = QApplication(sys.argv)\n",
    "window = WindowWithMenu()\n",
    "app.exec_()"
   ]
  },
  {
   "cell_type": "markdown",
   "metadata": {},
   "source": [
    "### 4. 子菜单"
   ]
  },
  {
   "cell_type": "code",
   "execution_count": null,
   "metadata": {},
   "outputs": [],
   "source": [
    "import sys\n",
    "from PyQt5.QtWidgets import QMainWindow, QAction, QMenu, QApplication\n",
    "\n",
    "class WindowWithMultiLevelMenu(QMainWindow):\n",
    "    def __init__(self):\n",
    "        super(WindowWithMultiLevelMenu, self).__init__()\n",
    "        self.initUI()\n",
    "    def initUI(self):\n",
    "        menubar = self.menuBar()\n",
    "        menubar.setNativeMenuBar(False)\n",
    "        \n",
    "        file_menu = menubar.addMenu('File')\n",
    "        new_action = QAction('New', self)\n",
    "        file_menu.addAction(new_action)             ## 等价于file_menu.addAction('New')\n",
    "\n",
    "        imp_menu = file_menu.addMenu('Import')      ## 等价于 imp_menu = QMenu('Import', self) 和 file_menu.addMenu(imp_menu)\n",
    "        imp_action = QAction('Import mail', self)\n",
    "        imp_menu.addAction(imp_action)\n",
    "\n",
    "        self.setGeometry(300, 300, 200, 300)\n",
    "        self.setWindowTitle('Window with multi level menu')\n",
    "        self.show()\n",
    "\n",
    "app = QApplication(sys.argv)\n",
    "window = WindowWithMultiLevelMenu()\n",
    "app.exec_()\n"
   ]
  },
  {
   "cell_type": "markdown",
   "metadata": {},
   "source": [
    "### 5. 勾选菜单"
   ]
  },
  {
   "cell_type": "code",
   "execution_count": null,
   "metadata": {},
   "outputs": [],
   "source": [
    "import sys\n",
    "from PyQt5.QtWidgets import QMainWindow, QAction, QApplication\n",
    "\n",
    "class WindowWithTickedMenu(QMainWindow):\n",
    "    def __init__(self):\n",
    "        super(WindowWithTickedMenu, self).__init__()\n",
    "        self.initUI()\n",
    "    def initUI(self):\n",
    "        self.statusbar = self.statusBar()\n",
    "        self.statusbar.showMessage('Ready')\n",
    "        \n",
    "        menubar = self.menuBar()\n",
    "        menubar.setNativeMenuBar(False)\n",
    "\n",
    "        view_menu = menubar.addMenu('View')\n",
    "        view_stat_action = QAction('View status bar', self, checkable=True)\n",
    "        view_stat_action.setStatusTip('View status bar')\n",
    "        view_stat_action.setChecked(True)\n",
    "        view_stat_action.triggered.connect(self.toggleMenu)\n",
    "\n",
    "        view_menu.addAction(view_stat_action)\n",
    "\n",
    "        self.setGeometry(300, 300, 300, 200)\n",
    "        self.setWindowTitle('Window with ticked menu')\n",
    "        self.show()\n",
    "\n",
    "    def toggleMenu(self, state):\n",
    "        if state:\n",
    "            self.statusbar.show()\n",
    "        else:\n",
    "            self.statusbar.hide()\n",
    "\n",
    "app = QApplication(sys.argv)\n",
    "window = WindowWithTickedMenu()\n",
    "app.exec_()\n",
    "\n",
    "        "
   ]
  },
  {
   "cell_type": "markdown",
   "metadata": {},
   "source": [
    "### 6. 右键菜单"
   ]
  },
  {
   "cell_type": "code",
   "execution_count": null,
   "metadata": {},
   "outputs": [],
   "source": [
    "import sys\n",
    "from PyQt5.QtWidgets import QMainWindow, qApp, QMenu, QApplication\n",
    "\n",
    "class WindowWithContextMenu(QMainWindow):\n",
    "    def __init__(self):\n",
    "        super(WindowWithContextMenu, self).__init__()\n",
    "        self.initUI()\n",
    "    def initUI(self):\n",
    "        self.setGeometry(300, 300, 300, 200)\n",
    "        self.setWindowTitle('Window with context menu')\n",
    "        self.show()\n",
    "    def contextMenuEvent(self, event):\n",
    "        cmenu = QMenu(self)\n",
    "        new_action = cmenu.addAction('New')\n",
    "        open_action = cmenu.addAction('Open')\n",
    "        quit_action = cmenu.addAction('Quit')\n",
    "        action = cmenu.exec_(self.mapToGlobal(event.pos()))\n",
    "        if action == quit_action:\n",
    "            qApp.quit()\n",
    "\n",
    "app = QApplication(sys.argv)\n",
    "window = WindowWithContextMenu()\n",
    "app.exec_()"
   ]
  },
  {
   "cell_type": "markdown",
   "metadata": {},
   "source": [
    "### 7. 工具栏"
   ]
  },
  {
   "cell_type": "code",
   "execution_count": null,
   "metadata": {},
   "outputs": [],
   "source": [
    "import sys\n",
    "from PyQt5.QtWidgets import QMainWindow, QAction, qApp, QApplication\n",
    "from PyQt5.QtGui import QIcon\n",
    "\n",
    "class WindowWithToolBar(QMainWindow):\n",
    "    def __init__(self):\n",
    "        super(WindowWithToolBar, self).__init__()\n",
    "        self.initUI()\n",
    "    def initUI(self):\n",
    "        exit_action = QAction(QIcon('/home/jack/Desktop/projs/Toolset/pyqt5/imgs/Icarus.png'), 'exit', self)\n",
    "        exit_action.setShortcut('Ctrl+Q')\n",
    "        exit_action.triggered.connect(qApp.quit)\n",
    "\n",
    "        self.toobar = self.addToolBar('Exit')\n",
    "        self.toobar.addAction(exit_action)\n",
    "\n",
    "        self.setGeometry(300, 300, 300, 200)\n",
    "        self.setWindowTitle('Window with toolbar')\n",
    "        self.show()\n",
    "    \n",
    "app = QApplication(sys.argv)\n",
    "window = WindowWithToolBar()\n",
    "app.exec_()"
   ]
  },
  {
   "cell_type": "markdown",
   "metadata": {},
   "source": [
    "### 8. 主窗口整合"
   ]
  },
  {
   "cell_type": "code",
   "execution_count": null,
   "metadata": {},
   "outputs": [],
   "source": [
    "import sys\n",
    "from PyQt5.QtWidgets import QMainWindow, QTextEdit, QAction, QApplication\n",
    "from PyQt5.QtGui import QIcon\n",
    "\n",
    "class WindowsWithAll(QMainWindow):\n",
    "    def __init__(self):\n",
    "        super(WindowsWithAll, self).__init__()\n",
    "        self.initUI()\n",
    "\n",
    "    def initUI(self):\n",
    "        text_edit = QTextEdit()\n",
    "        self.setCentralWidget(text_edit)\n",
    "\n",
    "        exit_action = QAction(QIcon('/home/jack/Desktop/projs/Toolset/pyqt5/imgs/Icarus.png'), 'Exit', self)\n",
    "        exit_action.setShortcut('Ctrl+Q')\n",
    "        exit_action.setStatusTip('Exit')\n",
    "\n",
    "        self.statusBar()\n",
    "\n",
    "        menubar = self.menuBar()\n",
    "        menubar.setNativeMenuBar(False)\n",
    "        file_menu = menubar.addMenu('&File')\n",
    "        file_menu.addAction(exit_action)\n",
    "\n",
    "        toolbar = self.addToolBar('Exit')\n",
    "        toolbar.addAction(exit_action)\n",
    "\n",
    "        self.setGeometry(300, 300, 300, 200)\n",
    "        self.setWindowTitle('Window with toolbar')\n",
    "        self.show()\n",
    "    \n",
    "app = QApplication(sys.argv)\n",
    "window = WindowsWithAll()\n",
    "app.exec_()"
   ]
  }
 ],
 "metadata": {
  "kernelspec": {
   "display_name": "Python 3",
   "language": "python",
   "name": "python3"
  },
  "language_info": {
   "codemirror_mode": {
    "name": "ipython",
    "version": 3
   },
   "file_extension": ".py",
   "mimetype": "text/x-python",
   "name": "python",
   "nbconvert_exporter": "python",
   "pygments_lexer": "ipython3",
   "version": "3.11.5"
  }
 },
 "nbformat": 4,
 "nbformat_minor": 2
}
