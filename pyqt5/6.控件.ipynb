{
 "cells": [
  {
   "cell_type": "markdown",
   "metadata": {},
   "source": [
    "### 1. QCheckBox"
   ]
  },
  {
   "cell_type": "code",
   "execution_count": 1,
   "metadata": {},
   "outputs": [
    {
     "data": {
      "text/plain": [
       "0"
      ]
     },
     "execution_count": 1,
     "metadata": {},
     "output_type": "execute_result"
    }
   ],
   "source": [
    "import sys\n",
    "from PyQt5.QtWidgets import QWidget, QCheckBox, QApplication\n",
    "from PyQt5.QtCore import Qt\n",
    "\n",
    "class WindowWithCheckBox(QWidget):\n",
    "    def __init__(self):\n",
    "        super(WindowWithCheckBox, self).__init__()\n",
    "        self.initUI()\n",
    "    def initUI(self):\n",
    "        cb = QCheckBox('Show Title', self)\n",
    "        cb.move(20, 20)\n",
    "        cb.toggle()\n",
    "        cb.stateChanged.connect(self.changeTitle)\n",
    "\n",
    "        self.setGeometry(300, 300, 250, 150)\n",
    "        self.setWindowTitle('Window with check box')\n",
    "        self.show()\n",
    "    def changeTitle(self, state):\n",
    "        if state == Qt.Checked:\n",
    "            self.setWindowTitle('Window with check box')\n",
    "        else:\n",
    "            self.setWindowTitle('')\n",
    "app = QApplication(sys.argv)\n",
    "window = WindowWithCheckBox()\n",
    "app.exec_()"
   ]
  },
  {
   "cell_type": "markdown",
   "metadata": {},
   "source": [
    "### 2. 切换按钮"
   ]
  },
  {
   "cell_type": "code",
   "execution_count": 1,
   "metadata": {},
   "outputs": [
    {
     "data": {
      "text/plain": [
       "0"
      ]
     },
     "execution_count": 1,
     "metadata": {},
     "output_type": "execute_result"
    }
   ],
   "source": [
    "import sys\n",
    "from PyQt5.QtWidgets import QWidget, QPushButton, QFrame, QApplication\n",
    "from PyQt5.QtGui import QColor\n",
    "\n",
    "class WindowWithToggleButton(QWidget):\n",
    "    def __init__(self):\n",
    "        super(WindowWithToggleButton, self).__init__()\n",
    "        self.initUI()\n",
    "    def initUI(self):\n",
    "        self.color = QColor(0, 0, 0)\n",
    "\n",
    "        redb = QPushButton('Red', self)\n",
    "        redb.setCheckable(True)\n",
    "        redb.move(10, 10)\n",
    "        redb.clicked.connect(self.setColor)\n",
    "\n",
    "        greenb = QPushButton('Green', self)\n",
    "        greenb.setCheckable(True)\n",
    "        greenb.move(10, 60)\n",
    "        greenb.clicked.connect(self.setColor)\n",
    "\n",
    "        blueb = QPushButton('Blue', self)\n",
    "        blueb.setCheckable(True)\n",
    "        blueb.move(10, 110)\n",
    "        blueb.clicked.connect(self.setColor)\n",
    "        \n",
    "        self.square = QFrame(self)\n",
    "        self.square.setGeometry(150, 20, 100, 100)\n",
    "        self.square.setStyleSheet('QWidget { background-color: %s }'%(self.color.name()))\n",
    "        self.setGeometry(300, 300, 280, 170)\n",
    "        self.setWindowTitle('Window with toggle button')\n",
    "        self.show()\n",
    "    def setColor(self, pressed):\n",
    "        source = self.sender()\n",
    "        val = 255 if pressed else 0\n",
    "        match source.text():\n",
    "            case 'Red':\n",
    "                self.color.setRed(val)\n",
    "            case 'Green':\n",
    "                self.color.setGreen(val)\n",
    "            case 'Blue':\n",
    "                self.color.setBlue(val)\n",
    "            case _:\n",
    "                raise ValueError\n",
    "        self.square.setStyleSheet('QFrame { background-color: %s }'%(self.color.name()))\n",
    "app = QApplication(sys.argv)\n",
    "window = WindowWithToggleButton()\n",
    "app.exec_() "
   ]
  },
  {
   "cell_type": "markdown",
   "metadata": {},
   "source": [
    "### 3. 滑块"
   ]
  },
  {
   "cell_type": "code",
   "execution_count": 1,
   "metadata": {},
   "outputs": [
    {
     "data": {
      "text/plain": [
       "0"
      ]
     },
     "execution_count": 1,
     "metadata": {},
     "output_type": "execute_result"
    }
   ],
   "source": [
    "import sys\n",
    "from PyQt5.QtWidgets import QWidget, QSlider, QLabel, QApplication\n",
    "from PyQt5.QtCore import Qt\n",
    "from PyQt5.QtGui import QPixmap\n",
    "\n",
    "class WindowWithSlider(QWidget):\n",
    "    def __init__(self):\n",
    "        super(WindowWithSlider, self).__init__()\n",
    "        self.initUI()\n",
    "\n",
    "    def initUI(self):\n",
    "        sld = QSlider(Qt.Horizontal, self)\n",
    "        sld.setFocusPolicy(Qt.NoFocus)\n",
    "        sld.valueChanged.connect(self.changeValue)\n",
    "\n",
    "        self.label = QLabel(self)\n",
    "        self.label.setPixmap(QPixmap('/home/jack/Desktop/projs/Toolset/pyqt5/imgs/Icarus.png'))\n",
    "        self.label.setGeometry(160, 40, 80, 60)\n",
    "\n",
    "        self.setGeometry(300, 300, 280, 170)\n",
    "        self.setWindowTitle('Window with slider')\n",
    "        self.show()\n",
    "    def changeValue(self, value):\n",
    "        if value == 0:\n",
    "            self.label.setPixmap(QPixmap('/home/jack/Desktop/projs/Toolset/pyqt5/imgs/Icarus.png'))\n",
    "        elif 0 < value <= 30:\n",
    "            self.label.setPixmap(QPixmap('/home/jack/Desktop/projs/Toolset/pyqt5/imgs/girl.png'))\n",
    "        elif 30 < value <= 80:\n",
    "            self.label.setPixmap(QPixmap('/home/jack/Desktop/projs/Toolset/pyqt5/imgs/Icarus.png'))\n",
    "        else:\n",
    "            self.label.setPixmap(QPixmap('/home/jack/Desktop/projs/Toolset/pyqt5/imgs/girl.png'))\n",
    "\n",
    "app = QApplication(sys.argv)\n",
    "window = WindowWithSlider()\n",
    "app.exec_()"
   ]
  },
  {
   "cell_type": "markdown",
   "metadata": {},
   "source": [
    "### 4. 进度条"
   ]
  },
  {
   "cell_type": "code",
   "execution_count": 2,
   "metadata": {},
   "outputs": [
    {
     "data": {
      "text/plain": [
       "0"
      ]
     },
     "execution_count": 2,
     "metadata": {},
     "output_type": "execute_result"
    }
   ],
   "source": [
    "import sys\n",
    "from PyQt5.QtWidgets import QWidget, QProgressBar, QPushButton, QApplication\n",
    "from PyQt5.QtCore import QBasicTimer\n",
    "\n",
    "class WindowWithProgressBar(QWidget):\n",
    "    def __init__(self):\n",
    "        super(WindowWithProgressBar, self).__init__()\n",
    "        self.initUI()\n",
    "    def initUI(self):\n",
    "        self.pbar = QProgressBar(self)\n",
    "        self.pbar.setGeometry(30, 40, 200, 25)\n",
    "\n",
    "        self.btn = QPushButton('Start', self)\n",
    "        self.btn.move(40, 80)\n",
    "        self.btn.clicked.connect(self.doAction)\n",
    "\n",
    "        self.timer = QBasicTimer()\n",
    "        self.step = 0\n",
    "\n",
    "        self.setGeometry(300, 300, 280, 170)\n",
    "        self.setWindowTitle('Window with progress bar')\n",
    "        self.show()\n",
    "\n",
    "    def timerEvent(self, e):\n",
    "        if self.step >= 100:\n",
    "            self.timer.stop()\n",
    "            self.btn.setText('Finished')\n",
    "            return\n",
    "        self.step = self.step + 1\n",
    "        self.pbar.setValue(self.step)\n",
    "    \n",
    "    def doAction(self):\n",
    "        if self.timer.isActive():\n",
    "            self.timer.stop()\n",
    "            self.btn.setText('Start')\n",
    "        else:\n",
    "            self.timer.start(100, self)\n",
    "            self.btn.setText('Stop')\n",
    "    \n",
    "app = QApplication(sys.argv)\n",
    "window = WindowWithProgressBar()\n",
    "app.exec_()"
   ]
  },
  {
   "cell_type": "markdown",
   "metadata": {},
   "source": [
    "### 5. 日历"
   ]
  },
  {
   "cell_type": "code",
   "execution_count": 1,
   "metadata": {},
   "outputs": [
    {
     "data": {
      "text/plain": [
       "0"
      ]
     },
     "execution_count": 1,
     "metadata": {},
     "output_type": "execute_result"
    }
   ],
   "source": [
    "import sys\n",
    "from PyQt5.QtWidgets import QWidget, QCalendarWidget, QLabel, QApplication, QVBoxLayout\n",
    "\n",
    "class WindowWithCalendar(QWidget):\n",
    "    def __init__(self):\n",
    "        super(WindowWithCalendar, self).__init__()\n",
    "        self.initUI()\n",
    "    def initUI(self):\n",
    "        vbox = QVBoxLayout(self)\n",
    "        cal = QCalendarWidget(self)\n",
    "        cal.setGridVisible(True)\n",
    "        cal.clicked.connect(self.showDate)\n",
    "        vbox.addWidget(cal)\n",
    "\n",
    "        self.label = QLabel(self)\n",
    "        date = cal.selectedDate()\n",
    "        self.label.setText(date.toString())\n",
    "\n",
    "        vbox.addWidget(self.label)\n",
    "        self.setLayout(vbox)\n",
    "\n",
    "        self.setGeometry(300, 300, 350, 300)\n",
    "        self.setWindowTitle('Window with calendar')\n",
    "        self.show()\n",
    "    def showDate(self, date):\n",
    "        self.label.setText(date.toString())\n",
    "\n",
    "app = QApplication(sys.argv)\n",
    "window = WindowWithCalendar()\n",
    "app.exec_()\n"
   ]
  },
  {
   "cell_type": "markdown",
   "metadata": {},
   "source": [
    "### 6. 图片"
   ]
  },
  {
   "cell_type": "code",
   "execution_count": 1,
   "metadata": {},
   "outputs": [],
   "source": [
    "import sys\n",
    "from PyQt5.QtWidgets import QWidget, QHBoxLayout, QLabel, QApplication\n",
    "from PyQt5.QtGui import QPixmap\n",
    "\n",
    "class WindowWithPixmap(QWidget):\n",
    "    def __init__(self):\n",
    "        super(WindowWithPixmap, self).__init__()\n",
    "        self.initUI()\n",
    "    def initUI(self):\n",
    "        hbox = QHBoxLayout(self)\n",
    "        pixmap = QPixmap('/home/jack/Desktop/projs/Toolset/pyqt5/imgs/Icarus.png')\n",
    "\n",
    "        label = QLabel(self)\n",
    "        label.setPixmap(pixmap)\n",
    "\n",
    "        hbox.addWidget(label)\n",
    "        self.setLayout(hbox)\n",
    "\n",
    "        self.move(300, 200)\n",
    "        self.setWindowTitle('Window with pixmap')\n",
    "        self.show()\n",
    "\n",
    "app = QApplication(sys.argv)\n",
    "window = WindowWithPixmap()\n",
    "app.exec_()"
   ]
  },
  {
   "cell_type": "markdown",
   "metadata": {},
   "source": [
    "### 7. 行编辑"
   ]
  },
  {
   "cell_type": "code",
   "execution_count": 1,
   "metadata": {},
   "outputs": [
    {
     "data": {
      "text/plain": [
       "0"
      ]
     },
     "execution_count": 1,
     "metadata": {},
     "output_type": "execute_result"
    }
   ],
   "source": [
    "import sys\n",
    "from PyQt5.QtWidgets import QWidget, QLabel, QLineEdit, QApplication\n",
    "\n",
    "class WindowWithLineEdit(QWidget):\n",
    "    def __init__(self):\n",
    "        super(WindowWithLineEdit, self).__init__()\n",
    "        self.initUI()\n",
    "    def initUI(self):\n",
    "        self.label = QLabel(self)\n",
    "        qle = QLineEdit(self)\n",
    "\n",
    "        qle.move(60, 100)\n",
    "        self.label.move(60, 40)\n",
    "\n",
    "        qle.textChanged.connect(self.onChanged)\n",
    "\n",
    "        self.setGeometry(300, 300, 280, 170)\n",
    "        self.setWindowTitle('Window with line edit')\n",
    "        self.show()\n",
    "    def onChanged(self, text):\n",
    "        self.label.setText(text)\n",
    "        self.label.adjustSize()\n",
    "\n",
    "app = QApplication(sys.argv)\n",
    "window = WindowWithLineEdit()\n",
    "app.exec_()\n",
    "\n"
   ]
  },
  {
   "cell_type": "markdown",
   "metadata": {},
   "source": [
    "### 8. QSplitter"
   ]
  },
  {
   "cell_type": "code",
   "execution_count": 1,
   "metadata": {},
   "outputs": [
    {
     "data": {
      "text/plain": [
       "0"
      ]
     },
     "execution_count": 1,
     "metadata": {},
     "output_type": "execute_result"
    }
   ],
   "source": [
    "import sys\n",
    "from PyQt5.QtWidgets import QWidget, QHBoxLayout, QFrame, QSplitter, QStyleFactory, QApplication\n",
    "from PyQt5.QtCore import Qt\n",
    "\n",
    "class WindowWithSplitter(QWidget):\n",
    "    def __init__(self):\n",
    "        super(WindowWithSplitter, self).__init__()\n",
    "        self.initUI()\n",
    "    def initUI(self):\n",
    "        hbox = QHBoxLayout()\n",
    "\n",
    "        topLeft = QFrame(self)\n",
    "        topLeft.setFrameShape(QFrame.StyledPanel)\n",
    "        topRight = QFrame(self)\n",
    "        topRight.setFrameShape(QFrame.StyledPanel)\n",
    "        bottom = QFrame(self)\n",
    "        bottom.setFrameShape(QFrame.StyledPanel)\n",
    "\n",
    "        splitter1 = QSplitter(Qt.Horizontal)\n",
    "        splitter1.addWidget(topLeft)\n",
    "        splitter1.addWidget(topRight)\n",
    "\n",
    "        splitter2 = QSplitter(Qt.Vertical)\n",
    "        splitter2.addWidget(splitter1)\n",
    "        splitter2.addWidget(bottom)\n",
    "\n",
    "        hbox.addWidget(splitter2)\n",
    "        self.setLayout(hbox)\n",
    "\n",
    "        self.setGeometry(300, 300, 300, 200)\n",
    "        self.setWindowTitle('Window with splitter')\n",
    "        self.show()\n",
    "        \n",
    "    def onChanged(self, text):\n",
    "        self.label.setText(text)\n",
    "        self.label.adjustSize()\n",
    "\n",
    "app = QApplication(sys.argv)\n",
    "window = WindowWithSplitter()\n",
    "app.exec_()\n",
    "    "
   ]
  },
  {
   "cell_type": "markdown",
   "metadata": {},
   "source": [
    "### 9. 下拉选框"
   ]
  },
  {
   "cell_type": "code",
   "execution_count": 1,
   "metadata": {},
   "outputs": [
    {
     "data": {
      "text/plain": [
       "0"
      ]
     },
     "execution_count": 1,
     "metadata": {},
     "output_type": "execute_result"
    }
   ],
   "source": [
    "import sys\n",
    "from PyQt5.QtWidgets import QWidget, QLabel, QComboBox, QApplication\n",
    "\n",
    "class WindowWithComboBox(QWidget):\n",
    "    def __init__(self):\n",
    "        super(WindowWithComboBox, self).__init__()\n",
    "        self.initUI()\n",
    "    def initUI(self):\n",
    "        self.label = QLabel('archlinux', self)\n",
    "        combo = QComboBox(self)\n",
    "        combo.addItem('archlinux')\n",
    "        combo.addItem('ubuntu')\n",
    "        combo.addItem('fedora')\n",
    "        combo.addItem('gentoo')\n",
    "\n",
    "        combo.move(50, 50)\n",
    "        self.label.move(50, 150)\n",
    "\n",
    "        combo.activated[str].connect(self.onActivated)\n",
    "\n",
    "        self.setGeometry(300, 300, 300, 200)\n",
    "        self.setWindowTitle('Window with combobox')\n",
    "        self.show()\n",
    "    def onActivated(self, text):\n",
    "        self.label.setText(text)\n",
    "        self.label.adjustSize()\n",
    "\n",
    "app = QApplication(sys.argv)\n",
    "window = WindowWithComboBox()\n",
    "app.exec_()\n"
   ]
  }
 ],
 "metadata": {
  "kernelspec": {
   "display_name": "Python 3",
   "language": "python",
   "name": "python3"
  },
  "language_info": {
   "codemirror_mode": {
    "name": "ipython",
    "version": 3
   },
   "file_extension": ".py",
   "mimetype": "text/x-python",
   "name": "python",
   "nbconvert_exporter": "python",
   "pygments_lexer": "ipython3",
   "version": "3.11.5"
  }
 },
 "nbformat": 4,
 "nbformat_minor": 2
}
