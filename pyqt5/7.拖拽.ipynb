{
 "cells": [
  {
   "cell_type": "markdown",
   "metadata": {},
   "source": [
    "### 1. 简单的拖放"
   ]
  },
  {
   "cell_type": "code",
   "execution_count": 1,
   "metadata": {},
   "outputs": [
    {
     "data": {
      "text/plain": [
       "0"
      ]
     },
     "execution_count": 1,
     "metadata": {},
     "output_type": "execute_result"
    }
   ],
   "source": [
    "import sys\n",
    "from PyQt5.QtWidgets import QPushButton, QWidget, QLineEdit, QApplication\n",
    "\n",
    "class Button(QPushButton):\n",
    "    def __init__(self, title, parent):\n",
    "        super(Button, self).__init__(title, parent)\n",
    "        self.setAcceptDrops(True)\n",
    "\n",
    "    def dragEnterEvent(self, e):\n",
    "        if e.mimeData().hasFormat('text/plain'):\n",
    "            e.accept()\n",
    "        else:\n",
    "            e.ignore()\n",
    "    def dragEvent(self, e):\n",
    "        self.setText(e.mimeData().text())\n",
    "\n",
    "class WindowWithDrag(QWidget):\n",
    "    def __init__(self):\n",
    "        super(WindowWithDrag, self).__init__()\n",
    "        self.initUI()\n",
    "    def initUI(self):\n",
    "        edit = QLineEdit('', self)\n",
    "        edit.setDragEnabled(True)\n",
    "        edit.move(30, 65)\n",
    "\n",
    "        button = Button('button', self)\n",
    "        button.move(190, 65)\n",
    "\n",
    "        self.setWindowTitle('Window with simple drag')\n",
    "        self.setGeometry(300, 300, 300, 150)\n",
    "        self.show()\n",
    "\n",
    "app = QApplication(sys.argv)\n",
    "window = WindowWithDrag()\n",
    "app.exec_()"
   ]
  },
  {
   "cell_type": "markdown",
   "metadata": {},
   "source": [
    "### 2. 拖放按钮组件"
   ]
  },
  {
   "cell_type": "code",
   "execution_count": null,
   "metadata": {},
   "outputs": [],
   "source": [
    "import sys\n",
    "from PyQt5.QtWidgets import QPushButton, QWidget, QApplication\n",
    "from PyQt5.QtCore import Qt, QMimeData\n",
    "from PyQt5.QtGui import QDrag\n",
    "\n",
    "class Button(QPushButton):\n",
    "    def __init__(self, title, parent):\n",
    "        super(Button, self).__init__(title, parent)\n",
    "    def mouseMoveEvent(self, e):\n",
    "        if e.buttons() != Qt.RightButton:\n",
    "            return\n",
    "        mimeDate = QMimeData()\n",
    "\n",
    "        drag = QDrag(self)\n",
    "        drag.setMimeData(mimeDate)\n",
    "        drag.setHotSpot(e.pos()-self.rect().topLeft())\n",
    "        dropAction = drag.exec_(Qt.MoveAction)\n",
    "\n",
    "    def mousePressEvent(self, e):\n",
    "        super(Button, self).mousePressEvent(e)\n",
    "        if e.button() == Qt.LeftButton:\n",
    "            print('press')\n",
    "\n",
    "class WindowWithButtonDrag(QWidget):\n",
    "    def __init__(self):\n",
    "        super(WindowWithButtonDrag, self).__init__()\n",
    "        self.initUI()\n",
    "    def initUI(self):\n",
    "        self.setAcceptDrops(True)\n",
    "        self.button = Button('button', self)\n",
    "        self.button.move(100, 65)\n",
    "        self.setWindowTitle('Window with button drag') \n",
    "        self.setGeometry(300, 300, 280, 150)\n",
    "        self.show()\n",
    "        \n",
    "    def dragEnterEvent(self, e):\n",
    "        e.accept()\n",
    "\n",
    "    def dragEvent(self, e):\n",
    "        position = e.pos()\n",
    "        self.button.move(position)\n",
    "        e.setDropAction(Qt.MoveAction)\n",
    "        e.accept()\n",
    "    \n",
    "app = QApplication(sys.argv)\n",
    "window = WindowWithButtonDrag()\n",
    "app.exec_()"
   ]
  }
 ],
 "metadata": {
  "kernelspec": {
   "display_name": "Python 3",
   "language": "python",
   "name": "python3"
  },
  "language_info": {
   "codemirror_mode": {
    "name": "ipython",
    "version": 3
   },
   "file_extension": ".py",
   "mimetype": "text/x-python",
   "name": "python",
   "nbconvert_exporter": "python",
   "pygments_lexer": "ipython3",
   "version": "3.11.5"
  }
 },
 "nbformat": 4,
 "nbformat_minor": 2
}
